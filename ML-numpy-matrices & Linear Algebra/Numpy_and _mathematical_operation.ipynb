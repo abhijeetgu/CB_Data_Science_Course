{
 "cells": [
  {
   "cell_type": "code",
   "execution_count": 2,
   "metadata": {},
   "outputs": [],
   "source": [
    "import numpy as np"
   ]
  },
  {
   "cell_type": "code",
   "execution_count": 4,
   "metadata": {},
   "outputs": [
    {
     "name": "stdout",
     "output_type": "stream",
     "text": [
      "[1 2 3 4 5]\n",
      "<class 'numpy.ndarray'>\n",
      "(5,)\n"
     ]
    }
   ],
   "source": [
    "a = np.array([1,2,3,4,5])\n",
    "print(a)\n",
    "print(type(a))\n",
    "print(a.shape)"
   ]
  },
  {
   "cell_type": "code",
   "execution_count": 5,
   "metadata": {},
   "outputs": [
    {
     "name": "stdout",
     "output_type": "stream",
     "text": [
      "[[1]\n",
      " [2]\n",
      " [3]\n",
      " [4]\n",
      " [5]]\n",
      "(5, 1)\n"
     ]
    }
   ],
   "source": [
    "b = np.array([[1],[2],[3],[4],[5]])\n",
    "print(b)\n",
    "print(b.shape)"
   ]
  },
  {
   "cell_type": "code",
   "execution_count": 11,
   "metadata": {},
   "outputs": [
    {
     "name": "stdout",
     "output_type": "stream",
     "text": [
      "[[1 2 3]\n",
      " [4 5 6]]\n",
      "(2, 3)\n",
      "3\n"
     ]
    }
   ],
   "source": [
    "c = np.array([[1,2,3],[4,5,6]])\n",
    "print(c)\n",
    "print(c.shape)\n",
    "print(c[0][2])"
   ]
  },
  {
   "cell_type": "code",
   "execution_count": 17,
   "metadata": {},
   "outputs": [
    {
     "name": "stdout",
     "output_type": "stream",
     "text": [
      "[[0. 0. 0.]\n",
      " [0. 0. 0.]\n",
      " [0. 0. 0.]]\n",
      "[[1. 1. 1.]\n",
      " [1. 1. 1.]]\n",
      "[[5 5]\n",
      " [5 5]\n",
      " [5 5]]\n",
      "[[1. 0. 0. 0.]\n",
      " [0. 1. 0. 0.]\n",
      " [0. 0. 1. 0.]\n",
      " [0. 0. 0. 1.]]\n",
      "[[0.52762998 0.87964241 0.00418815]\n",
      " [0.15871793 0.80369749 0.23921272]]\n"
     ]
    }
   ],
   "source": [
    "# Create array of zeros and ones \n",
    "a = np.zeros((3,3))\n",
    "print(a)\n",
    " \n",
    "b = np.ones((2,3))\n",
    "print(b)\n",
    "\n",
    "# array of some constants\n",
    "c = np.full((3,2),5)\n",
    "print(c)\n",
    "\n",
    "#Identity matrix\n",
    "d = np.eye(4)\n",
    "print(d)\n",
    "\n",
    "#random Matrix(return floats in half-open interval[0.0,1.0)\n",
    "randomMatrix = np.random.random((2,3))\n",
    "print(randomMatrix)"
   ]
  },
  {
   "cell_type": "code",
   "execution_count": 18,
   "metadata": {},
   "outputs": [
    {
     "name": "stdout",
     "output_type": "stream",
     "text": [
      "[0.00418815 0.23921272]\n"
     ]
    }
   ],
   "source": [
    "# print all 3rd column element\n",
    "print(randomMatrix[ : ,2])"
   ]
  },
  {
   "cell_type": "code",
   "execution_count": 20,
   "metadata": {},
   "outputs": [
    {
     "name": "stdout",
     "output_type": "stream",
     "text": [
      "[[0.52762998 0.87964241 0.00418815]\n",
      " [0.15871793 1.         1.        ]]\n"
     ]
    }
   ],
   "source": [
    "# make element as 1 of 2nd row 2nd column onwards\n",
    "randomMatrix[1,1:] = 1 # Slicing\n",
    "print(randomMatrix)"
   ]
  },
  {
   "cell_type": "code",
   "execution_count": 26,
   "metadata": {},
   "outputs": [
    {
     "name": "stdout",
     "output_type": "stream",
     "text": [
      "[[0 0 0]\n",
      " [0 0 0]\n",
      " [0 0 0]]\n",
      "[[0 0 7]\n",
      " [5 5 7]\n",
      " [0 0 7]]\n"
     ]
    }
   ],
   "source": [
    "# Set some rows and columns with any values\n",
    "#Bydefault datatype are float so,we can change into int\n",
    "z = np.zeros((3,3),dtype= np.int64)\n",
    "print(z)\n",
    "z[1, : ]=5\n",
    "z[:,2]=7 # or z[:,-1]=7\n",
    "print(z)"
   ]
  },
  {
   "cell_type": "code",
   "execution_count": 27,
   "metadata": {},
   "outputs": [
    {
     "name": "stdout",
     "output_type": "stream",
     "text": [
      "int64\n"
     ]
    }
   ],
   "source": [
    "#Datatypes\n",
    "print(z.dtype)"
   ]
  },
  {
   "cell_type": "code",
   "execution_count": 31,
   "metadata": {},
   "outputs": [
    {
     "name": "stdout",
     "output_type": "stream",
     "text": [
      "[[ 6  8]\n",
      " [10 12]]\n",
      "[[ 6  8]\n",
      " [10 12]]\n",
      "[[-4 -4]\n",
      " [-4 -4]]\n",
      "[[-4 -4]\n",
      " [-4 -4]]\n"
     ]
    }
   ],
   "source": [
    "# Mathematical operation on numpy\n",
    "x = np.array([[1,2],[3,4]])\n",
    "y = np.array([[5,6],[7,8]])\n",
    "\n",
    "#Element wise addition\n",
    "print(x+y)\n",
    "print(np.add(x,y))\n",
    "\n",
    "#subtact\n",
    "print(x-y)\n",
    "print(np.subtract(x,y))\n"
   ]
  },
  {
   "cell_type": "code",
   "execution_count": 37,
   "metadata": {},
   "outputs": [
    {
     "name": "stdout",
     "output_type": "stream",
     "text": [
      "[[ 5 12]\n",
      " [21 32]]\n",
      "[[ 5 12]\n",
      " [21 32]]\n",
      "[[0.2        0.33333333]\n",
      " [0.42857143 0.5       ]]\n",
      "[[0.2        0.33333333]\n",
      " [0.42857143 0.5       ]]\n",
      "[[1.         1.41421356]\n",
      " [1.73205081 2.        ]]\n"
     ]
    }
   ],
   "source": [
    "#Multiply element wise\n",
    "print(x*y)\n",
    "print(np.multiply(x,y))\n",
    "\n",
    "#divide\n",
    "print(x/y)\n",
    "print(np.divide(x,y))\n",
    "\n",
    "#square root \n",
    "print(np.sqrt(x))\n",
    "            "
   ]
  },
  {
   "cell_type": "code",
   "execution_count": 40,
   "metadata": {},
   "outputs": [
    {
     "name": "stdout",
     "output_type": "stream",
     "text": [
      "[[1 2]\n",
      " [3 4]]\n",
      "[[5 6]\n",
      " [7 8]]\n",
      "[[19 22]\n",
      " [43 50]]\n",
      "[[19 22]\n",
      " [43 50]]\n"
     ]
    }
   ],
   "source": [
    "#Dot Product\n",
    "print(x)\n",
    "print(y)\n",
    "\n",
    "print(x.dot(y))\n",
    "print(np.dot(x,y))"
   ]
  },
  {
   "cell_type": "code",
   "execution_count": 42,
   "metadata": {},
   "outputs": [
    {
     "name": "stdout",
     "output_type": "stream",
     "text": [
      "30\n",
      "30\n"
     ]
    }
   ],
   "source": [
    "# Multiplication(Dot product) of Vectors => scalar\n",
    "\n",
    "a = np.array([1,2,3,4])\n",
    "b = np.array([1,2,3,4])\n",
    "print(a.dot(b))\n",
    "print(np.dot(a,b))"
   ]
  },
  {
   "cell_type": "code",
   "execution_count": 43,
   "metadata": {},
   "outputs": [
    {
     "name": "stdout",
     "output_type": "stream",
     "text": [
      "[1 2 3 4]\n"
     ]
    }
   ],
   "source": [
    "print(a)"
   ]
  },
  {
   "cell_type": "code",
   "execution_count": 44,
   "metadata": {},
   "outputs": [
    {
     "name": "stdout",
     "output_type": "stream",
     "text": [
      "10\n"
     ]
    }
   ],
   "source": [
    "print(sum(a))"
   ]
  },
  {
   "cell_type": "code",
   "execution_count": 45,
   "metadata": {},
   "outputs": [
    {
     "name": "stdout",
     "output_type": "stream",
     "text": [
      "[[1 2]\n",
      " [3 4]]\n"
     ]
    }
   ],
   "source": [
    "print(x)"
   ]
  },
  {
   "cell_type": "code",
   "execution_count": 48,
   "metadata": {},
   "outputs": [
    {
     "name": "stdout",
     "output_type": "stream",
     "text": [
      "10\n",
      "[4 6]\n",
      "[3 7]\n"
     ]
    }
   ],
   "source": [
    "print(np.sum(x))\n",
    "#print sum along downward axis(0)\n",
    "print(np.sum(x,axis = 0))\n",
    "\n",
    "#sum along axis=1\n",
    "print(np.sum(x,axis = 1))"
   ]
  },
  {
   "cell_type": "code",
   "execution_count": 50,
   "metadata": {},
   "outputs": [
    {
     "name": "stdout",
     "output_type": "stream",
     "text": [
      "[1 2 3 4]\n",
      "[ 1  4  9 16]\n"
     ]
    }
   ],
   "source": [
    "print(a)\n",
    "b = b**2\n",
    "print(b)"
   ]
  },
  {
   "cell_type": "code",
   "execution_count": 53,
   "metadata": {},
   "outputs": [
    {
     "data": {
      "text/plain": [
       "array([[ 1,  2,  3,  4],\n",
       "       [ 1,  4,  9, 16]])"
      ]
     },
     "execution_count": 53,
     "metadata": {},
     "output_type": "execute_result"
    }
   ],
   "source": [
    "# stack of array\n",
    "np.stack((a,b),axis=0) # along zero\n",
    "\n",
    "\n"
   ]
  },
  {
   "cell_type": "code",
   "execution_count": 55,
   "metadata": {},
   "outputs": [],
   "source": [
    "a=np.stack((a,b),axis=1) #along 1"
   ]
  },
  {
   "cell_type": "code",
   "execution_count": 56,
   "metadata": {},
   "outputs": [
    {
     "name": "stdout",
     "output_type": "stream",
     "text": [
      "[[ 1  1]\n",
      " [ 2  4]\n",
      " [ 3  9]\n",
      " [ 4 16]]\n"
     ]
    }
   ],
   "source": [
    "\n",
    "print(a)"
   ]
  },
  {
   "cell_type": "code",
   "execution_count": 60,
   "metadata": {},
   "outputs": [
    {
     "name": "stdout",
     "output_type": "stream",
     "text": [
      "[[ 1]\n",
      " [ 1]\n",
      " [ 2]\n",
      " [ 4]\n",
      " [ 3]\n",
      " [ 9]\n",
      " [ 4]\n",
      " [16]]\n"
     ]
    }
   ],
   "source": [
    "#Reshape a Numpy array\n",
    "a = a.reshape((8,1))\n",
    "\n",
    "print(a)"
   ]
  },
  {
   "cell_type": "code",
   "execution_count": 61,
   "metadata": {},
   "outputs": [
    {
     "name": "stdout",
     "output_type": "stream",
     "text": [
      "[[ 1  1  2  4]\n",
      " [ 3  9  4 16]]\n"
     ]
    }
   ],
   "source": [
    "a = a.reshape((-1,4))\n",
    "print(a)"
   ]
  },
  {
   "cell_type": "code",
   "execution_count": 64,
   "metadata": {},
   "outputs": [
    {
     "name": "stdout",
     "output_type": "stream",
     "text": [
      "[ 5  6  7  8  9 10 11 12 13 14]\n"
     ]
    }
   ],
   "source": [
    "#arange - generate certain number of element \n",
    "\n",
    "a = np.arange(10) + 5\n",
    "print(a)"
   ]
  },
  {
   "cell_type": "markdown",
   "metadata": {},
   "source": [
    "## Numpy Random Module\n",
    "- rand: Random values in a given shape.\n",
    "- randn: return a sample (or samples) from the \"Standard normal\" distribution.\n",
    "- randint: Return random integers from low(inclusive) to high(exclusive).\n",
    "- random : return random floats in the half-open interval[0.0, 1.0)\n",
    "- choice : Genrates a random sample from a given 1-d array\n",
    "- shuffle: shuffles the contents of a sequence\n"
   ]
  },
  {
   "cell_type": "code",
   "execution_count": 81,
   "metadata": {},
   "outputs": [
    {
     "name": "stdout",
     "output_type": "stream",
     "text": [
      "[6 9 5 8 5]\n"
     ]
    }
   ],
   "source": [
    "np.random.shuffle(a)\n",
    "print(a)"
   ]
  },
  {
   "cell_type": "code",
   "execution_count": 80,
   "metadata": {},
   "outputs": [
    {
     "name": "stdout",
     "output_type": "stream",
     "text": [
      "[[-1.17813522  0.42708687 -0.16558527]\n",
      " [ 0.51483695 -0.57239435  0.79466897]]\n",
      "[5 9 5 8 6]\n",
      "8\n",
      "[[0.16405239 0.78758032 0.51863143]\n",
      " [0.98019684 0.90038052 0.12854697]]\n"
     ]
    }
   ],
   "source": [
    "a = np.random.randn(2,3)\n",
    "print(a)\n",
    "\n",
    "a = np.random.randint(5,10,5)\n",
    "print(a)\n",
    "\n",
    "ele = np.random.choice([1,8,3,5,10,9])\n",
    "print(ele)\n",
    "\n",
    "b = np.random.rand(2,3)\n",
    "print(b)"
   ]
  },
  {
   "cell_type": "code",
   "execution_count": 102,
   "metadata": {},
   "outputs": [
    {
     "name": "stdout",
     "output_type": "stream",
     "text": [
      "[8, 7, 5, 6]\n"
     ]
    }
   ],
   "source": [
    "x = [5,6,7,8]\n",
    "np.random.seed(1) #use seed for generating random number in same order\n",
    "np.random.shuffle(x)\n",
    "print(x)"
   ]
  },
  {
   "cell_type": "markdown",
   "metadata": {},
   "source": [
    "## Some More Numpy Functions- statistics\n",
    "- min, max\n",
    "- mean\n",
    "- median\n",
    "- average\n",
    "- variance\n",
    "- standard deviation\n"
   ]
  },
  {
   "cell_type": "code",
   "execution_count": 110,
   "metadata": {},
   "outputs": [
    {
     "name": "stdout",
     "output_type": "stream",
     "text": [
      "[[1 2 3 4]\n",
      " [7 6 5 0]]\n",
      "0\n",
      "[1 2 3 0]\n",
      "[1 0]\n"
     ]
    }
   ],
   "source": [
    "a = np.array([[1,2,3,4],[7,6,5,0]])\n",
    "print(a)\n",
    "print(np.min(a))\n",
    "# axis=0 - along cloumn we calculate\n",
    "print(np.min(a,axis =0))\n",
    "# axis=1 - along row we calculate\n",
    "print(np.min(a,axis=1))"
   ]
  },
  {
   "cell_type": "code",
   "execution_count": 115,
   "metadata": {},
   "outputs": [
    {
     "name": "stdout",
     "output_type": "stream",
     "text": [
      "3.0\n",
      "3.0\n",
      "[4. 4. 4. 2.]\n",
      "[2.5 4.5]\n"
     ]
    }
   ],
   "source": [
    "#mean\n",
    "b = np.array([1,2,3,4,5])\n",
    "m = sum(b)/5\n",
    "print(m)\n",
    "\n",
    "print(np.mean(b))\n",
    "print(np.mean(a,axis=0))\n",
    "print(np.mean(a,axis=1))"
   ]
  },
  {
   "cell_type": "code",
   "execution_count": 126,
   "metadata": {},
   "outputs": [
    {
     "name": "stdout",
     "output_type": "stream",
     "text": [
      "2.0\n",
      "2.4\n",
      "2.066666666666667\n",
      "2.4\n",
      "1.854723699099141\n",
      "1.854723699099141\n",
      "3.440000000000001\n",
      "3.4400000000000004\n"
     ]
    }
   ],
   "source": [
    "#median(arrange in increasing order then find middle)\n",
    "c = np.array([1,5,4,2,0])\n",
    "print(np.median(c))\n",
    "\n",
    "#mean vs average is weighted\n",
    "print(np.mean(c))\n",
    "\n",
    "#weights\n",
    "w = np.array([1,2,3,4,5])\n",
    "print(np.average(c,weights=w))\n",
    "\n",
    "wg = np.array([1,1,1,1,1])\n",
    "print(np.average(c,weights = wg))\n",
    "\n",
    "#standard Deviation\n",
    "u = np.mean(c)\n",
    "mystd = np.sqrt(np.mean(abs(c-u)**2))\n",
    "print(mystd)\n",
    "\n",
    "#Inbuilt function SD:\n",
    "sdev = np.std(c)\n",
    "print(sdev)\n",
    "\n",
    "#variance\n",
    "print(mystd**2)\n",
    "#inbuilt\n",
    "print(np.var(c))\n"
   ]
  },
  {
   "cell_type": "markdown",
   "metadata": {},
   "source": [
    "## Matrices and Tensor"
   ]
  },
  {
   "cell_type": "code",
   "execution_count": 137,
   "metadata": {},
   "outputs": [
    {
     "name": "stdout",
     "output_type": "stream",
     "text": [
      "(3, 3)\n",
      "[[ 4  5  7]\n",
      " [10 11 13]\n",
      " [56 80 90]]\n",
      "11\n",
      "[[4 5 7]\n",
      " [2 2 2]\n",
      " [2 2 2]]\n"
     ]
    }
   ],
   "source": [
    "#Tensor is an array with more than 2 axes, denoted as X\n",
    "#Think of tensor as a generalization of an array with more than 2 axes\n",
    "\n",
    "#Here X is a Matrix\n",
    "X = np.array([[4,5,7],[10,11,13],[56,80,90]])\n",
    "print(X.shape)\n",
    "print(X)\n",
    "\n",
    "print(X[1][1])\n",
    "X[1:, :] = 2  #X[rs : re,cs:ce]=2\n",
    "print(X)"
   ]
  },
  {
   "cell_type": "code",
   "execution_count": 139,
   "metadata": {},
   "outputs": [
    {
     "name": "stdout",
     "output_type": "stream",
     "text": [
      "(2, 2, 3)\n",
      "[[[ 4  5  7]\n",
      "  [10 11 13]]\n",
      "\n",
      " [[56 80 90]\n",
      "  [ 9  8 10]]]\n"
     ]
    }
   ],
   "source": [
    "#Here T is a Tensor\n",
    "T = np.array([[[4,5,7],[10,11,13]],[[56,80,90], [9,8,10]]])\n",
    "\n",
    "print(T.shape)\n",
    "print(T)"
   ]
  },
  {
   "cell_type": "code",
   "execution_count": 141,
   "metadata": {},
   "outputs": [
    {
     "name": "stdout",
     "output_type": "stream",
     "text": [
      "[[1 2]\n",
      " [5 6]]\n",
      "[[1 5]\n",
      " [2 6]]\n"
     ]
    }
   ],
   "source": [
    "#Transpose\n",
    "\n",
    "x = np.array([[1,2],[5,6]])\n",
    "print(x)\n",
    "xt = np.transpose(x)\n",
    "print(xt)"
   ]
  },
  {
   "cell_type": "code",
   "execution_count": 146,
   "metadata": {},
   "outputs": [
    {
     "name": "stdout",
     "output_type": "stream",
     "text": [
      "[[1]\n",
      " [2]\n",
      " [5]\n",
      " [6]]\n",
      "[[1 2 5 6]]\n",
      "(1, 4)\n"
     ]
    }
   ],
   "source": [
    "y = x.reshape((-1,1))\n",
    "print(y)\n",
    "print(np.transpose(y))\n",
    "print(np.transpose(y).shape)"
   ]
  },
  {
   "cell_type": "markdown",
   "metadata": {},
   "source": [
    "## Broadcasting \n",
    "- you can add a scalar to a vector, and numpy will add it to each element in the vector\n",
    "  x + a = xi + a\n",
    "    "
   ]
  },
  {
   "cell_type": "code",
   "execution_count": 147,
   "metadata": {},
   "outputs": [
    {
     "name": "stdout",
     "output_type": "stream",
     "text": [
      "[2 3 4 5]\n"
     ]
    }
   ],
   "source": [
    "l = [1,2,3,4]\n",
    "l = np.array(l)\n",
    "l = l+1\n",
    "print(l)"
   ]
  },
  {
   "cell_type": "code",
   "execution_count": 149,
   "metadata": {},
   "outputs": [
    {
     "name": "stdout",
     "output_type": "stream",
     "text": [
      "[[ 1  4  9 16]\n",
      " [16 25 36 49]]\n",
      "[[ 2  5 10 17]\n",
      " [17 26 37 50]]\n"
     ]
    }
   ],
   "source": [
    "v = [[1,2,3,4],[4,5,6,7]]\n",
    "v = np.array(v)\n",
    "v = v**2\n",
    "print(v)\n",
    "print(v+1)"
   ]
  },
  {
   "cell_type": "code",
   "execution_count": 150,
   "metadata": {},
   "outputs": [
    {
     "data": {
      "text/plain": [
       "array([[1., 2., 3., 4.],\n",
       "       [4., 5., 6., 7.]])"
      ]
     },
     "execution_count": 150,
     "metadata": {},
     "output_type": "execute_result"
    }
   ],
   "source": [
    "np.sqrt(v)"
   ]
  },
  {
   "cell_type": "code",
   "execution_count": 153,
   "metadata": {},
   "outputs": [],
   "source": [
    "## Matrix Multiplication\n",
    "X = np.array([[4,5,7],[10,11,13],[56,80,90]])\n",
    "Y = np.array([[40,50,70],[100,110,130],[560,800,900]])\n"
   ]
  },
  {
   "cell_type": "code",
   "execution_count": 155,
   "metadata": {},
   "outputs": [
    {
     "name": "stdout",
     "output_type": "stream",
     "text": [
      "(3, 3)\n",
      "(3, 3)\n",
      "[[ 4  5  7]\n",
      " [10 11 13]\n",
      " [56 80 90]]\n",
      "[[ 40  50  70]\n",
      " [100 110 130]\n",
      " [560 800 900]]\n"
     ]
    }
   ],
   "source": [
    "print(X.shape)\n",
    "print(Y.shape)\n",
    "\n",
    "print(X)\n",
    "print(Y)"
   ]
  },
  {
   "cell_type": "code",
   "execution_count": 156,
   "metadata": {},
   "outputs": [
    {
     "name": "stdout",
     "output_type": "stream",
     "text": [
      "[[ 4580  6350  7230]\n",
      " [ 8780 12110 13830]\n",
      " [60640 83600 95320]]\n"
     ]
    }
   ],
   "source": [
    "product = np.dot(X,Y)\n",
    "print(product)"
   ]
  },
  {
   "cell_type": "code",
   "execution_count": 157,
   "metadata": {},
   "outputs": [
    {
     "name": "stdout",
     "output_type": "stream",
     "text": [
      "[[ 4  5  7]\n",
      " [10 11 13]\n",
      " [56 80 90]]\n",
      "[[1. 0. 0.]\n",
      " [0. 1. 0.]\n",
      " [0. 0. 1.]]\n"
     ]
    }
   ],
   "source": [
    "X = np.array([[4,5,7],[10,11,13],[56,80,90]])\n",
    "\n",
    "Y = np.eye(3)\n",
    "print(X)\n",
    "print(Y)"
   ]
  },
  {
   "cell_type": "code",
   "execution_count": 158,
   "metadata": {},
   "outputs": [
    {
     "name": "stdout",
     "output_type": "stream",
     "text": [
      "[[ 4.  0.  0.]\n",
      " [ 0. 11.  0.]\n",
      " [ 0.  0. 90.]]\n"
     ]
    }
   ],
   "source": [
    "print(X*Y)"
   ]
  },
  {
   "cell_type": "markdown",
   "metadata": {},
   "source": [
    "## Norms\n",
    "- Norm can be thought of as a proxy for size of a vector.\n"
   ]
  },
  {
   "cell_type": "code",
   "execution_count": 5,
   "metadata": {},
   "outputs": [],
   "source": [
    "x = np.array([-5,3,10])"
   ]
  },
  {
   "cell_type": "code",
   "execution_count": 7,
   "metadata": {},
   "outputs": [
    {
     "name": "stdout",
     "output_type": "stream",
     "text": [
      "18.0\n",
      "11.575836902790225\n"
     ]
    }
   ],
   "source": [
    "lp2 = np.linalg.norm(x)\n",
    "lp1 = np.linalg.norm(x,ord=1)\n",
    "print(lp1)\n",
    "print(lp2)"
   ]
  },
  {
   "cell_type": "code",
   "execution_count": 161,
   "metadata": {},
   "outputs": [
    {
     "name": "stdout",
     "output_type": "stream",
     "text": [
      "10.0\n"
     ]
    }
   ],
   "source": [
    "lpinf = np.linalg.norm(x,ord=np.inf)\n",
    "print(lpinf)"
   ]
  },
  {
   "cell_type": "code",
   "execution_count": 3,
   "metadata": {},
   "outputs": [],
   "source": [
    "y = np.array([[2,-2,1],[-1,2,-1],[2,-4,1]])"
   ]
  },
  {
   "cell_type": "code",
   "execution_count": 8,
   "metadata": {},
   "outputs": [
    {
     "name": "stdout",
     "output_type": "stream",
     "text": [
      "6.0\n",
      "7.0\n"
     ]
    }
   ],
   "source": [
    "lpinfy = np.linalg.norm(y,ord=np.inf)\n",
    "lp22 = np.linalg.norm(y)\n",
    "print(lp22)\n",
    "print(lpinfy)"
   ]
  },
  {
   "cell_type": "code",
   "execution_count": 9,
   "metadata": {},
   "outputs": [],
   "source": [
    "A = np.array([[1,-3,4],[-2,10,-7],[0,1,0],[0,0,0]])\n",
    "B = np.array([[5,0],[-2,11],[-3,12]])"
   ]
  },
  {
   "cell_type": "code",
   "execution_count": 10,
   "metadata": {},
   "outputs": [
    {
     "ename": "ValueError",
     "evalue": "operands could not be broadcast together with shapes (4,3) (3,2) ",
     "output_type": "error",
     "traceback": [
      "\u001b[1;31m---------------------------------------------------------------------------\u001b[0m",
      "\u001b[1;31mValueError\u001b[0m                                Traceback (most recent call last)",
      "\u001b[1;32m<ipython-input-10-02d234b7ecbd>\u001b[0m in \u001b[0;36m<module>\u001b[1;34m\u001b[0m\n\u001b[1;32m----> 1\u001b[1;33m \u001b[0mprint\u001b[0m\u001b[1;33m(\u001b[0m\u001b[0mA\u001b[0m\u001b[1;33m*\u001b[0m\u001b[0mB\u001b[0m\u001b[1;33m)\u001b[0m\u001b[1;33m\u001b[0m\u001b[1;33m\u001b[0m\u001b[0m\n\u001b[0m",
      "\u001b[1;31mValueError\u001b[0m: operands could not be broadcast together with shapes (4,3) (3,2) "
     ]
    }
   ],
   "source": [
    "print(A*B)"
   ]
  },
  {
   "cell_type": "code",
   "execution_count": null,
   "metadata": {},
   "outputs": [],
   "source": []
  }
 ],
 "metadata": {
  "kernelspec": {
   "display_name": "Python 3",
   "language": "python",
   "name": "python3"
  },
  "language_info": {
   "codemirror_mode": {
    "name": "ipython",
    "version": 3
   },
   "file_extension": ".py",
   "mimetype": "text/x-python",
   "name": "python",
   "nbconvert_exporter": "python",
   "pygments_lexer": "ipython3",
   "version": "3.7.2"
  }
 },
 "nbformat": 4,
 "nbformat_minor": 4
}
