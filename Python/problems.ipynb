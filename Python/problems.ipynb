{
 "cells": [
  {
   "cell_type": "code",
   "execution_count": 12,
   "metadata": {},
   "outputs": [
    {
     "name": "stdout",
     "output_type": "stream",
     "text": [
      "3\n",
      "1 10\n",
      "2 3 5 7 3 5\n",
      "3 5 4 100\n",
      "5 7 11 13 17 19 23 29 31 37 41 43 47 53 59 61 67 71 73 79 83 89 97 "
     ]
    }
   ],
   "source": [
    "t =int(input())\n",
    "\n",
    "for i in range(t):\n",
    "    m, n = [int(x) for x in input().split()] \n",
    "    \n",
    "    for j in range(m,n+1):\n",
    "        flag = True \n",
    "        if(j==1):\n",
    "            flag = False\n",
    "            \n",
    "           \n",
    "        for k in range(2,j):\n",
    "            if(j%k==0):\n",
    "                flag=False\n",
    "                break\n",
    "        k=k*k        \n",
    "        if(flag==True):\n",
    "            print(j,end =\" \")\n",
    "    "
   ]
  },
  {
   "cell_type": "code",
   "execution_count": 1,
   "metadata": {},
   "outputs": [
    {
     "name": "stdout",
     "output_type": "stream",
     "text": [
      "11\n"
     ]
    }
   ],
   "source": [
    "L1 = list() \n",
    "\n",
    "L1.append([1, [2, 3], 4]) \n",
    "\n",
    "L1.extend([7, 8, 9]) \n",
    "\n",
    "print(L1[0][1][1] + L1[2])"
   ]
  },
  {
   "cell_type": "code",
   "execution_count": 3,
   "metadata": {},
   "outputs": [
    {
     "name": "stdout",
     "output_type": "stream",
     "text": [
      "28 36 40 68\n"
     ]
    }
   ],
   "source": [
    "import sys \n",
    "\n",
    "L1 = tuple() \n",
    "\n",
    "print(sys.getsizeof(L1), end = \" \") \n",
    "\n",
    "L1 = (1, 2) \n",
    "\n",
    "print(sys.getsizeof(L1), end = \" \") \n",
    "\n",
    "L1 = (1, 3, (4, 5)) \n",
    "\n",
    "print(sys.getsizeof(L1), end = \" \") \n",
    "\n",
    "L1 = (1, 2, 3, 4, 5, [3, 4], 'p', '8', 9.777, (1, 3)) \n",
    "\n",
    "print(sys.getsizeof(L1))"
   ]
  },
  {
   "cell_type": "code",
   "execution_count": 4,
   "metadata": {},
   "outputs": [
    {
     "name": "stdout",
     "output_type": "stream",
     "text": [
      "c\n",
      "b\n",
      "a\n",
      "[]\n"
     ]
    }
   ],
   "source": [
    "stack = [] \n",
    "\n",
    "stack.append('a') \n",
    "\n",
    "stack.append('b') \n",
    "\n",
    "stack.append('c') \n",
    "\n",
    "print(stack.pop()) \n",
    "\n",
    "print(stack.pop()) \n",
    "\n",
    "print(stack.pop()) \n",
    "\n",
    "print(stack) "
   ]
  },
  {
   "cell_type": "code",
   "execution_count": 5,
   "metadata": {},
   "outputs": [
    {
     "name": "stdout",
     "output_type": "stream",
     "text": [
      "3\n"
     ]
    }
   ],
   "source": [
    "dictionary1 = {'GFG' : 1,'Google' : 2,'GFG' : 3} \n",
    "\n",
    "print(dictionary1['GFG']); "
   ]
  },
  {
   "cell_type": "code",
   "execution_count": null,
   "metadata": {},
   "outputs": [],
   "source": []
  }
 ],
 "metadata": {
  "kernelspec": {
   "display_name": "Python 3",
   "language": "python",
   "name": "python3"
  },
  "language_info": {
   "codemirror_mode": {
    "name": "ipython",
    "version": 3
   },
   "file_extension": ".py",
   "mimetype": "text/x-python",
   "name": "python",
   "nbconvert_exporter": "python",
   "pygments_lexer": "ipython3",
   "version": "3.7.2"
  }
 },
 "nbformat": 4,
 "nbformat_minor": 4
}
