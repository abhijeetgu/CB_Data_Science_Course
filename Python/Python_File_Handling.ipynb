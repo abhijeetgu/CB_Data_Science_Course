{
 "cells": [
  {
   "cell_type": "code",
   "execution_count": 1,
   "metadata": {},
   "outputs": [
    {
     "data": {
      "text/plain": [
       "'This is some sample file.\\nThis is some sample text, we are learning file handling.'"
      ]
     },
     "execution_count": 1,
     "metadata": {},
     "output_type": "execute_result"
    }
   ],
   "source": [
    "f = open(\"sample_file.txt\",'r')\n",
    "f.read()"
   ]
  },
  {
   "cell_type": "code",
   "execution_count": 2,
   "metadata": {},
   "outputs": [],
   "source": [
    "f = open(\"sample_file.txt\",'w')\n",
    "\n",
    "content = \"hello world\\n\"\n",
    "l = [content]*3\n",
    "f.writelines(l)\n",
    "f.close()"
   ]
  },
  {
   "cell_type": "markdown",
   "metadata": {},
   "source": [
    "## Reading from a file"
   ]
  },
  {
   "cell_type": "code",
   "execution_count": 6,
   "metadata": {},
   "outputs": [
    {
     "name": "stdout",
     "output_type": "stream",
     "text": [
      "['hello world\\n', 'hello world\\n', 'hello world\\n']\n",
      "<class 'list'>\n"
     ]
    }
   ],
   "source": [
    "f = open(\"sample_file.txt\",'r')\n",
    "l = f.readlines()\n",
    "print(l)\n",
    "print(type(l))\n",
    "f.close()"
   ]
  },
  {
   "cell_type": "markdown",
   "metadata": {},
   "source": [
    "## Reading using WITH OPEN"
   ]
  },
  {
   "cell_type": "code",
   "execution_count": 17,
   "metadata": {},
   "outputs": [
    {
     "name": "stdout",
     "output_type": "stream",
     "text": [
      "False\n",
      "hello world\n",
      "hello world\n",
      "hello world\n",
      "\n"
     ]
    }
   ],
   "source": [
    "with open(\"sample_file.txt\",\"r\") as f:\n",
    "\n",
    "    print(f.closed)\n",
    "    print(f.read())\n",
    "    # Automatically closes the file, this ensures that a cleaup is there"
   ]
  },
  {
   "cell_type": "code",
   "execution_count": 18,
   "metadata": {},
   "outputs": [
    {
     "name": "stdout",
     "output_type": "stream",
     "text": [
      "True\n"
     ]
    }
   ],
   "source": [
    "\n",
    "print(f.closed)"
   ]
  },
  {
   "cell_type": "code",
   "execution_count": 19,
   "metadata": {},
   "outputs": [
    {
     "name": "stdout",
     "output_type": "stream",
     "text": [
      " world\n",
      "hello world\n",
      "hello world\n",
      "\n"
     ]
    }
   ],
   "source": [
    "with open(\"sample_file.txt\",\"r\") as f:\n",
    "    f.seek(5)\n",
    "    print(f.read())"
   ]
  },
  {
   "cell_type": "markdown",
   "metadata": {},
   "source": [
    "## JSON File"
   ]
  },
  {
   "cell_type": "code",
   "execution_count": 26,
   "metadata": {},
   "outputs": [
    {
     "name": "stdout",
     "output_type": "stream",
     "text": [
      "<class 'dict'>\n",
      "{'name': 'A1', 'age': 30}\n"
     ]
    }
   ],
   "source": [
    "import json\n",
    "\n",
    "#python object\n",
    "\n",
    "book = {\n",
    "    \"name\":\"learning python\",\n",
    "    \"page\":320,\n",
    "    \"author\":[\n",
    "        {\n",
    "            \"name\":\"A1\",\n",
    "            \"age\":30\n",
    "        },\n",
    "        {\n",
    "            \"name\":\"A2\",\n",
    "            \"age\":40\n",
    "        }\n",
    "    ]\n",
    "}\n",
    "print(type(book))\n",
    "print(book['author'][0])"
   ]
  },
  {
   "cell_type": "code",
   "execution_count": null,
   "metadata": {},
   "outputs": [],
   "source": [
    "\"\"\"To handle the data flow in a file, the JSON library in Python uses dump() function to convert the Python \n",
    "objects into their respective JSON object, so it makes easy to write data to files\"\"\""
   ]
  },
  {
   "cell_type": "code",
   "execution_count": 27,
   "metadata": {},
   "outputs": [],
   "source": [
    "\n",
    "with open(\"myJsonFile.json\",'w') as f:\n",
    "    json.dump(book,f)"
   ]
  },
  {
   "cell_type": "code",
   "execution_count": 29,
   "metadata": {},
   "outputs": [
    {
     "name": "stdout",
     "output_type": "stream",
     "text": [
      "{\"name\": \"learning python\", \"page\": 320, \"author\": [{\"name\": \"A1\", \"age\": 30}, {\"name\": \"A2\", \"age\": 40}]}\n",
      "<class 'str'>\n"
     ]
    }
   ],
   "source": [
    "# conversion to JSON done by dumps() function \n",
    "s = json.dumps(book) #Returns a string\n",
    "print(s)\n",
    "print(type(s))"
   ]
  },
  {
   "cell_type": "code",
   "execution_count": 30,
   "metadata": {},
   "outputs": [
    {
     "name": "stdout",
     "output_type": "stream",
     "text": [
      "{'name': 'learning python', 'page': 320, 'author': [{'name': 'A1', 'age': 30}, {'name': 'A2', 'age': 40}]}\n",
      "<class 'dict'>\n"
     ]
    }
   ],
   "source": [
    "# conversion of JSON object into their respective Python objects\n",
    "obj = json.loads(s)\n",
    "print(obj)\n",
    "print(type(obj)) #json obj into python dict"
   ]
  },
  {
   "cell_type": "code",
   "execution_count": 31,
   "metadata": {},
   "outputs": [
    {
     "name": "stdout",
     "output_type": "stream",
     "text": [
      "{'name': 'learning python', 'page': 320, 'author': [{'name': 'A1', 'age': 30}, {'name': 'A2', 'age': 40}]}\n"
     ]
    }
   ],
   "source": [
    "with open(\"myJsonFile.json\",'r') as f:\n",
    "    data = json.load(f)\n",
    "    print(data)"
   ]
  },
  {
   "cell_type": "code",
   "execution_count": 32,
   "metadata": {},
   "outputs": [
    {
     "name": "stdout",
     "output_type": "stream",
     "text": [
      "{'author': [{'age': 30, 'name': 'A1'}, {'age': 40, 'name': 'A2'}],\n",
      " 'name': 'learning python',\n",
      " 'page': 320}\n"
     ]
    }
   ],
   "source": [
    "import pprint  #it use to pretty print a mess json file\n",
    "\n",
    "with open(\"myJsonFile.json\",'r') as f:\n",
    "    data = json.load(f)\n",
    "    pprint.pprint(data)"
   ]
  },
  {
   "cell_type": "markdown",
   "metadata": {},
   "source": [
    "## Exception Handling\n",
    "- Try Except"
   ]
  },
  {
   "cell_type": "code",
   "execution_count": 40,
   "metadata": {},
   "outputs": [
    {
     "name": "stdout",
     "output_type": "stream",
     "text": [
      "b is not defined\n"
     ]
    }
   ],
   "source": [
    "try:\n",
    "    a = b\n",
    "    f = open(\"someMissing File.txt\",'r')\n",
    "    \n",
    "except FileNotFoundError:\n",
    "    print(\"File doesn't exist. Please reupload\")\n",
    "    #print(FileNotFoundError)]\n",
    "\n",
    "except NameError:\n",
    "    print(\"b is not defined\")\n",
    "    \n",
    "except Exception: #Genalised exception\n",
    "    print(\"Something went wrong\")\n",
    "    #print(Exception)"
   ]
  },
  {
   "cell_type": "code",
   "execution_count": 45,
   "metadata": {},
   "outputs": [
    {
     "name": "stdout",
     "output_type": "stream",
     "text": [
      "Enter your Name:ab\n",
      "Something went wrong\n",
      "Oh Come on!!\n"
     ]
    }
   ],
   "source": [
    "try:\n",
    "   a = input(\"Enter your Name:\")\n",
    "   if(len(a)<3):\n",
    "        raise Exception\n",
    "    \n",
    "except FileNotFoundError:\n",
    "    print(\"File doesn't exist. Please reupload\")\n",
    "    #print(FileNotFoundError)]\n",
    "\n",
    "except NameError:\n",
    "    print(\"b is not defined\")\n",
    "    \n",
    "except Exception: #Genalised exception\n",
    "    print(\"Something went wrong\")\n",
    "    #print(Exception)\n",
    "    \n",
    "else:\n",
    "    print(\"Try executed without any error\")\n",
    "    print(\"Form Submitted Successfully\")\n",
    "    \n",
    "finally:\n",
    "    print(\"Oh Come on!!\")"
   ]
  },
  {
   "cell_type": "code",
   "execution_count": 49,
   "metadata": {},
   "outputs": [
    {
     "name": "stdout",
     "output_type": "stream",
     "text": [
      "3\n",
      "()()()\n",
      "()(())\n",
      "(())()\n",
      "(()())\n",
      "((()))\n"
     ]
    }
   ],
   "source": [
    "def generateParantheses(openB,closeB,n,s=[]):\n",
    "        #Base case\n",
    "\t\tif(closeB == n):\n",
    "\t\t\tprint(\"\".join(s))\n",
    "\t\t\treturn\n",
    "\t    \n",
    "\t\telse:\n",
    "\t\t\tif(openB > closeB):\n",
    "\t\t\t\ts.append(')')\t\n",
    "\t\t\t\tgenerateParantheses(openB,closeB+1,n,s)\n",
    "\t\t\t\ts.pop()\t\n",
    "\n",
    "\t\t\tif(openB < n):\n",
    "\t\t\t\ts.append('(')\n",
    "\t\t\t\tgenerateParantheses(openB+1, closeB, n, s)\n",
    "\t\t\t\ts.pop()\t\n",
    "\t\t\t\t\n",
    "\t\treturn\t\t\n",
    "\n",
    "n =int(input())\n",
    "generateParantheses(0, 0, n)\n",
    "      "
   ]
  },
  {
   "cell_type": "code",
   "execution_count": 53,
   "metadata": {},
   "outputs": [
    {
     "name": "stdout",
     "output_type": "stream",
     "text": [
      "1\n",
      "2\n",
      "88\n",
      "-100\n",
      "1\n",
      "2\n",
      "88\n"
     ]
    }
   ],
   "source": [
    "list = []\n",
    "\n",
    "n = int(input())\n",
    "list.append(n)\n",
    "while(sum(list)>=0):\n",
    "\t\n",
    "\tn = int(input())\n",
    "    \n",
    "\tlist.append(n)\n",
    "    \n",
    "for i in range(len(list)-1):\n",
    "    print(list[i])"
   ]
  },
  {
   "cell_type": "code",
   "execution_count": 64,
   "metadata": {},
   "outputs": [
    {
     "name": "stdout",
     "output_type": "stream",
     "text": [
      "5\n",
      "1 2 3 4 5  \n",
      "1 2 3 4 *  \n",
      "1 2 3 * * *  \n",
      "1 2 * * * * *  \n",
      "1 * * * * * * *  \n"
     ]
    }
   ],
   "source": [
    "n = int(input())\n",
    "\n",
    "\n",
    "for i in range(n):\n",
    "    for j in range(1,n+1-i):\n",
    "        print(j,end = \" \")\n",
    "        \n",
    "    if(i!=0):\n",
    "        for k in range((2*i)-1):\n",
    "            print(\"*\",end = \" \")\n",
    "    print(\" \")"
   ]
  },
  {
   "cell_type": "code",
   "execution_count": null,
   "metadata": {},
   "outputs": [],
   "source": [
    "n = int(input())\n",
    "flag = True\n",
    "\n",
    "for i in range(2,n):\n",
    "\tif(n%i==0 and i!=0):\n",
    "\t\tflag = False\n",
    "\t\tbreak\n",
    "i=i*i    \n",
    "\t\t\n",
    "if(flag==True):\n",
    "\tprint(\"Prime\")\n",
    "else:\n",
    "\tprint(\"Not Prime\")\t"
   ]
  },
  {
   "cell_type": "code",
   "execution_count": null,
   "metadata": {},
   "outputs": [],
   "source": []
  }
 ],
 "metadata": {
  "kernelspec": {
   "display_name": "Python 3",
   "language": "python",
   "name": "python3"
  },
  "language_info": {
   "codemirror_mode": {
    "name": "ipython",
    "version": 3
   },
   "file_extension": ".py",
   "mimetype": "text/x-python",
   "name": "python",
   "nbconvert_exporter": "python",
   "pygments_lexer": "ipython3",
   "version": "3.7.2"
  }
 },
 "nbformat": 4,
 "nbformat_minor": 4
}
